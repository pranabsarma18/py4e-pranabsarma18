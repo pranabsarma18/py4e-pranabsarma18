{
  "nbformat": 4,
  "nbformat_minor": 0,
  "metadata": {
    "colab": {
      "name": "py4e-urllinks.ipynb",
      "provenance": [],
      "authorship_tag": "ABX9TyNA1c4f/cYxDQVKOYlGvYdI",
      "include_colab_link": true
    },
    "kernelspec": {
      "name": "python3",
      "display_name": "Python 3"
    },
    "language_info": {
      "name": "python"
    }
  },
  "cells": [
    {
      "cell_type": "markdown",
      "metadata": {
        "id": "view-in-github",
        "colab_type": "text"
      },
      "source": [
        "<a href=\"https://colab.research.google.com/github/pranabsarma18/py4e-pranabsarma18/blob/main/network-programming/py4e_urllinks.ipynb\" target=\"_parent\"><img src=\"https://colab.research.google.com/assets/colab-badge.svg\" alt=\"Open In Colab\"/></a>"
      ]
    },
    {
      "cell_type": "code",
      "execution_count": 5,
      "metadata": {
        "colab": {
          "base_uri": "https://localhost:8080/"
        },
        "id": "3T54FrtzfZP_",
        "outputId": "7e0a9b13-42ad-4380-d497-969817f13620"
      },
      "outputs": [
        {
          "output_type": "stream",
          "name": "stdout",
          "text": [
            "Enter the count: 7\n",
            "Enter the position: 18\n",
            "URL: http://py4e-data.dr-chuck.net/known_by_Salymat.html\n",
            "Content by: Salymat\n",
            "URL: http://py4e-data.dr-chuck.net/known_by_Dawson.html\n",
            "Content by: Dawson\n",
            "URL: http://py4e-data.dr-chuck.net/known_by_Tieghan.html\n",
            "Content by: Tieghan\n",
            "URL: http://py4e-data.dr-chuck.net/known_by_Steff.html\n",
            "Content by: Steff\n",
            "URL: http://py4e-data.dr-chuck.net/known_by_Alyas.html\n",
            "Content by: Alyas\n",
            "URL: http://py4e-data.dr-chuck.net/known_by_Abiha.html\n",
            "Content by: Abiha\n",
            "URL: http://py4e-data.dr-chuck.net/known_by_Lloyde.html\n",
            "Content by: Lloyde\n"
          ]
        }
      ],
      "source": [
        "# To run this file on your local machine, download the BeautifulSoup zip file\n",
        "# http://www.py4e.com/code3/bs4.zip\n",
        "# and unzip it in the same directory as this file\n",
        "\n",
        "import urllib.request, urllib.parse, urllib.error\n",
        "from bs4 import BeautifulSoup\n",
        "import ssl\n",
        "\n",
        "# Ignore SSL certificate errors\n",
        "ctx = ssl.create_default_context()\n",
        "ctx.check_hostname = False\n",
        "ctx.verify_mode = ssl.CERT_NONE\n",
        "\n",
        "count = int(input(\"Enter the count: \"))\n",
        "pos = int(input(\"Enter the position: \"))\n",
        "url = \"http://py4e-data.dr-chuck.net/known_by_Jiorrja.html\"\n",
        "\n",
        "for i in range(count):\n",
        "    html = urllib.request.urlopen(url, context=ctx).read()\n",
        "    soup = BeautifulSoup(html, 'html.parser')\n",
        "    # Retrieve all of the anchor tags\n",
        "    tags = soup('a')\n",
        "    tag = tags[pos]\n",
        "    url = tag.get('href', None)\n",
        "    print(\"URL:\",url)\n",
        "    print(\"Content by:\",tag.contents[0])\n"
      ]
    }
  ]
}